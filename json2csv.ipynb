{
 "cells": [
  {
   "cell_type": "code",
   "execution_count": 9,
   "metadata": {},
   "outputs": [],
   "source": [
    "import json\n",
    "import os\n",
    "import pandas as pd\n",
    "\n",
    "base_path = \"/workspace/\"\n",
    "\n",
    "# Load JSON file\n",
    "with open(\"valid_reports.json\", \"r\", encoding=\"utf-8\") as f:\n",
    "    data = json.load(f)\n",
    "\n",
    "# Extract rows\n",
    "rows = [entry[\"row\"] for entry in data[\"rows\"]]\n",
    "\n",
    "# Convert to DataFrame\n",
    "df = pd.DataFrame(rows)\n",
    "\n",
    "\n",
    "# Function to generate correct file path\n",
    "def get_full_path(volume_name):\n",
    "    parts = volume_name.split(\"_\")  # Split \"valid_1_a_1.nii.gz\" → ['valid', '1', 'a', '1.nii.gz']\n",
    "    if len(parts) < 4 or \"2\" in parts[3]:\n",
    "        return None # Fallback if format is unexpected\n",
    "    \n",
    "    base = parts[0]\n",
    "    base_no = f\"{base}_{parts[1]}\"  # e.g., \"valid_1\"\n",
    "    base_no_version = f\"{base_no}_{parts[2]}\"  # e.g., \"valid_1_a\"\n",
    "    \n",
    "    return os.path.join(base_path, base, base_no, base_no_version, volume_name)\n",
    "\n",
    "\n",
    "# Add file path to VolumeName\n",
    "df[\"VolumeName\"] = df[\"VolumeName\"].apply(get_full_path)\n",
    "\n",
    "# Remove rows where VolumePath is None (i.e., those that had \"_b\")\n",
    "df = df.dropna(subset=[\"VolumeName\"])\n",
    "\n",
    "# Convert to CSV\n",
    "df.to_csv(\"valid_reports.csv\", index=False)\n"
   ]
  }
 ],
 "metadata": {
  "kernelspec": {
   "display_name": "core",
   "language": "python",
   "name": "python3"
  },
  "language_info": {
   "codemirror_mode": {
    "name": "ipython",
    "version": 3
   },
   "file_extension": ".py",
   "mimetype": "text/x-python",
   "name": "python",
   "nbconvert_exporter": "python",
   "pygments_lexer": "ipython3",
   "version": "3.10.15"
  }
 },
 "nbformat": 4,
 "nbformat_minor": 2
}
