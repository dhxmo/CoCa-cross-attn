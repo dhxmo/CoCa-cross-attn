{
 "cells": [
  {
   "cell_type": "code",
   "execution_count": 3,
   "metadata": {},
   "outputs": [
    {
     "data": {
      "text/plain": [
       "0     /root/data_volumes/dataset/valid/valid_1/valid...\n",
       "1     /root/data_volumes/dataset/valid/valid_2/valid...\n",
       "2     /root/data_volumes/dataset/valid/valid_3/valid...\n",
       "3     /root/data_volumes/dataset/valid/valid_4/valid...\n",
       "4     /root/data_volumes/dataset/valid/valid_4/valid...\n",
       "5     /root/data_volumes/dataset/valid/valid_5/valid...\n",
       "6     /root/data_volumes/dataset/valid/valid_6/valid...\n",
       "7     /root/data_volumes/dataset/valid/valid_7/valid...\n",
       "8     /root/data_volumes/dataset/valid/valid_7/valid...\n",
       "9     /root/data_volumes/dataset/valid/valid_8/valid...\n",
       "10    /root/data_volumes/dataset/valid/valid_9/valid...\n",
       "11    /root/data_volumes/dataset/valid/valid_10/vali...\n",
       "12    /root/data_volumes/dataset/valid/valid_11/vali...\n",
       "13    /root/data_volumes/dataset/valid/valid_12/vali...\n",
       "14    /root/data_volumes/dataset/valid/valid_13/vali...\n",
       "15    /root/data_volumes/dataset/valid/valid_14/vali...\n",
       "16    /root/data_volumes/dataset/valid/valid_15/vali...\n",
       "17    /root/data_volumes/dataset/valid/valid_16/vali...\n",
       "Name: VolumeName, dtype: object"
      ]
     },
     "execution_count": 3,
     "metadata": {},
     "output_type": "execute_result"
    }
   ],
   "source": [
    "import pandas as pd\n",
    "\n",
    "df = pd.read_csv(\"valid_reports.csv\", sep=\",\")\n",
    "df[\"VolumeName\"]"
   ]
  }
 ],
 "metadata": {
  "kernelspec": {
   "display_name": "core",
   "language": "python",
   "name": "python3"
  },
  "language_info": {
   "codemirror_mode": {
    "name": "ipython",
    "version": 3
   },
   "file_extension": ".py",
   "mimetype": "text/x-python",
   "name": "python",
   "nbconvert_exporter": "python",
   "pygments_lexer": "ipython3",
   "version": "3.10.15"
  }
 },
 "nbformat": 4,
 "nbformat_minor": 2
}
