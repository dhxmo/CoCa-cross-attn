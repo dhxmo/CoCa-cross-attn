{
 "cells": [
  {
   "cell_type": "code",
   "execution_count": 16,
   "metadata": {},
   "outputs": [
    {
     "data": {
      "text/plain": [
       "['/root/data_volumes/dataset/valid/valid_1/valid_1_a/valid_1_a_1.nii.gz',\n",
       " '/root/data_volumes/dataset/valid/valid_2/valid_2_a/valid_2_a_1.nii.gz',\n",
       " '/root/data_volumes/dataset/valid/valid_3/valid_3_a/valid_3_a_1.nii.gz',\n",
       " '/root/data_volumes/dataset/valid/valid_4/valid_4_a/valid_4_a_1.nii.gz',\n",
       " '/root/data_volumes/dataset/valid/valid_4/valid_4_b/valid_4_b_1.nii.gz',\n",
       " '/root/data_volumes/dataset/valid/valid_5/valid_5_a/valid_5_a_1.nii.gz',\n",
       " '/root/data_volumes/dataset/valid/valid_6/valid_6_a/valid_6_a_1.nii.gz',\n",
       " '/root/data_volumes/dataset/valid/valid_7/valid_7_a/valid_7_a_1.nii.gz',\n",
       " '/root/data_volumes/dataset/valid/valid_7/valid_7_b/valid_7_b_1.nii.gz',\n",
       " '/root/data_volumes/dataset/valid/valid_8/valid_8_a/valid_8_a_1.nii.gz',\n",
       " '/root/data_volumes/dataset/valid/valid_9/valid_9_a/valid_9_a_1.nii.gz',\n",
       " '/root/data_volumes/dataset/valid/valid_10/valid_10_a/valid_10_a_1.nii.gz',\n",
       " '/root/data_volumes/dataset/valid/valid_11/valid_11_a/valid_11_a_1.nii.gz',\n",
       " '/root/data_volumes/dataset/valid/valid_12/valid_12_a/valid_12_a_1.nii.gz',\n",
       " '/root/data_volumes/dataset/valid/valid_13/valid_13_a/valid_13_a_1.nii.gz',\n",
       " '/root/data_volumes/dataset/valid/valid_14/valid_14_a/valid_14_a_1.nii.gz',\n",
       " '/root/data_volumes/dataset/valid/valid_15/valid_15_a/valid_15_a_1.nii.gz',\n",
       " '/root/data_volumes/dataset/valid/valid_16/valid_16_a/valid_16_a_1.nii.gz']"
      ]
     },
     "execution_count": 16,
     "metadata": {},
     "output_type": "execute_result"
    }
   ],
   "source": [
    "import pandas as pd\n",
    "\n",
    "df = pd.read_csv(\"valid_reports.csv\", sep=\",\")\n",
    "df[\"filepath\"].tolist()"
   ]
  },
  {
   "cell_type": "code",
   "execution_count": 15,
   "metadata": {},
   "outputs": [],
   "source": [
    "import json\n",
    "import os\n",
    "import pandas as pd\n",
    "\n",
    "base_path = \"/root/data_volumes/dataset/\"\n",
    "\n",
    "# Load JSON file\n",
    "with open(\"valid_reports.json\", \"r\", encoding=\"utf-8\") as f:\n",
    "    data = json.load(f)\n",
    "\n",
    "# Extract rows\n",
    "rows = [entry[\"row\"] for entry in data[\"rows\"]]\n",
    "\n",
    "# Convert to DataFrame\n",
    "df = pd.DataFrame(rows)\n",
    "\n",
    "\n",
    "# Function to generate correct file path\n",
    "def get_full_path(volume_name):\n",
    "    parts = volume_name.split(\n",
    "        \"_\"\n",
    "    )  # Split \"valid_1_a_1.nii.gz\" → ['valid', '1', 'a', '1.nii.gz']\n",
    "    if len(parts) < 4 or \"2\" in parts[3]:\n",
    "        return None  # Fallback if format is unexpected\n",
    "\n",
    "    base = parts[0]\n",
    "    base_no = f\"{base}_{parts[1]}\"  # e.g., \"valid_1\"\n",
    "    base_no_version = f\"{base_no}_{parts[2]}\"  # e.g., \"valid_1_a\"\n",
    "\n",
    "    return os.path.join(base_path, base, base_no, base_no_version, volume_name)\n",
    "\n",
    "\n",
    "# Add file path to VolumeName\n",
    "df[\"VolumeName\"] = df[\"VolumeName\"].apply(get_full_path)\n",
    "\n",
    "# Remove rows where VolumePath is None (i.e., those that had \"_b\")\n",
    "df = df.dropna(subset=[\"VolumeName\"])\n",
    "df.rename(columns={\"VolumeName\": \"filepath\"}, inplace=True)\n",
    "df.rename(columns={\"Impressions_EN\": \"title\"}, inplace=True)\n",
    "df.drop(columns=[\"ClinicalInformation_EN\", \"Technique_EN\", \"Findings_EN\"], inplace=True)\n",
    "\n",
    "# Convert to CSV\n",
    "df.to_csv(\"valid_reports.csv\", index=False)"
   ]
  }
 ],
 "metadata": {
  "kernelspec": {
   "display_name": "core",
   "language": "python",
   "name": "python3"
  },
  "language_info": {
   "codemirror_mode": {
    "name": "ipython",
    "version": 3
   },
   "file_extension": ".py",
   "mimetype": "text/x-python",
   "name": "python",
   "nbconvert_exporter": "python",
   "pygments_lexer": "ipython3",
   "version": "3.10.15"
  }
 },
 "nbformat": 4,
 "nbformat_minor": 2
}
